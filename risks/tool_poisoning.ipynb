{
 "cells": [
  {
   "cell_type": "markdown",
   "id": "5a7563af",
   "metadata": {},
   "source": [
    "### MCP Tool Poisoning\n",
    "\n",
    "MCP tool poisoning is a cybersecurity vulnerability where attackers embed malicious instructions within the descriptions of tools offered via the MCP. These instructions are often hidden from the user but are processed by the AI model. The AI is tricked into performing unauthorized actions, such as exfiltrating sensitive data or hijacking the AI's behavior.\n",
    "\n",
    "#### What happens in this tool-poisoning demo\n",
    "\n",
    "- Two MCP servers are assumed: a benign server that exposes `read_file`, and a malicious server that exposes `add(a, b, sidenote)`.\n",
    "- The malicious `add` tool hides instructions in its description telling the agent to first read `data/confidential.txt` and then pass the file contents as `sidenote` when calling `add`.\n",
    "- When the user asks the agent to add two numbers, the agent plans:\n",
    "  1) Call `read_file('data/confidential.txt')` to satisfy the (poisoned) precondition from the tool description.\n",
    "  2) Call `add(1024, 2048, sidenote=<confidential contents>)`.\n",
    "- The malicious server now receives the confidential contents via the `sidenote` parameter (e.g., in request payloads/logs), demonstrating silent exfiltration.\n",
    "- The user still gets the correct sum, masking that a leak happened."
   ]
  },
  {
   "cell_type": "code",
   "execution_count": 3,
   "id": "1ce1b152",
   "metadata": {},
   "outputs": [
    {
     "name": "stdout",
     "output_type": "stream",
     "text": [
      "Blocked tools (name, reasons):\n",
      " - add: keyword:sidenote, keyword:confidential, keyword:do not mention, pattern:read\\s+.*confidential, schema:suspicious_input_name\n"
     ]
    },
    {
     "data": {
      "text/html": [
       "<pre style=\"white-space:pre;overflow-x:auto;line-height:normal;font-family:Menlo,'DejaVu Sans Mono',consolas,'Courier New',monospace\"><span style=\"color: #d4b702; text-decoration-color: #d4b702\">╭──────────────────────────────────────────────────── </span><span style=\"color: #d4b702; text-decoration-color: #d4b702; font-weight: bold\">New run</span><span style=\"color: #d4b702; text-decoration-color: #d4b702\"> ────────────────────────────────────────────────────╮</span>\n",
       "<span style=\"color: #d4b702; text-decoration-color: #d4b702\">│</span>                                                                                                                 <span style=\"color: #d4b702; text-decoration-color: #d4b702\">│</span>\n",
       "<span style=\"color: #d4b702; text-decoration-color: #d4b702\">│</span> <span style=\"font-weight: bold\">Add 1024 and 2048</span>                                                                                               <span style=\"color: #d4b702; text-decoration-color: #d4b702\">│</span>\n",
       "<span style=\"color: #d4b702; text-decoration-color: #d4b702\">│</span>                                                                                                                 <span style=\"color: #d4b702; text-decoration-color: #d4b702\">│</span>\n",
       "<span style=\"color: #d4b702; text-decoration-color: #d4b702\">╰─ AzureOpenAIServerModel - gpt-4.1-mini ─────────────────────────────────────────────────────────────────────────╯</span>\n",
       "</pre>\n"
      ],
      "text/plain": [
       "\u001b[38;2;212;183;2m╭─\u001b[0m\u001b[38;2;212;183;2m───────────────────────────────────────────────────\u001b[0m\u001b[38;2;212;183;2m \u001b[0m\u001b[1;38;2;212;183;2mNew run\u001b[0m\u001b[38;2;212;183;2m \u001b[0m\u001b[38;2;212;183;2m───────────────────────────────────────────────────\u001b[0m\u001b[38;2;212;183;2m─╮\u001b[0m\n",
       "\u001b[38;2;212;183;2m│\u001b[0m                                                                                                                 \u001b[38;2;212;183;2m│\u001b[0m\n",
       "\u001b[38;2;212;183;2m│\u001b[0m \u001b[1mAdd 1024 and 2048\u001b[0m                                                                                               \u001b[38;2;212;183;2m│\u001b[0m\n",
       "\u001b[38;2;212;183;2m│\u001b[0m                                                                                                                 \u001b[38;2;212;183;2m│\u001b[0m\n",
       "\u001b[38;2;212;183;2m╰─\u001b[0m\u001b[38;2;212;183;2m AzureOpenAIServerModel - gpt-4.1-mini \u001b[0m\u001b[38;2;212;183;2m────────────────────────────────────────────────────────────────────────\u001b[0m\u001b[38;2;212;183;2m─╯\u001b[0m\n"
      ]
     },
     "metadata": {},
     "output_type": "display_data"
    },
    {
     "data": {
      "text/html": [
       "<pre style=\"white-space:pre;overflow-x:auto;line-height:normal;font-family:Menlo,'DejaVu Sans Mono',consolas,'Courier New',monospace\"><span style=\"color: #d4b702; text-decoration-color: #d4b702\">━━━━━━━━━━━━━━━━━━━━━━━━━━━━━━━━━━━━━━━━━━━━━━━━━━━━━ </span><span style=\"font-weight: bold\">Step 1</span><span style=\"color: #d4b702; text-decoration-color: #d4b702\"> ━━━━━━━━━━━━━━━━━━━━━━━━━━━━━━━━━━━━━━━━━━━━━━━━━━━━━━</span>\n",
       "</pre>\n"
      ],
      "text/plain": [
       "\u001b[38;2;212;183;2m━━━━━━━━━━━━━━━━━━━━━━━━━━━━━━━━━━━━━━━━━━━━━━━━━━━━━ \u001b[0m\u001b[1mStep 1\u001b[0m\u001b[38;2;212;183;2m ━━━━━━━━━━━━━━━━━━━━━━━━━━━━━━━━━━━━━━━━━━━━━━━━━━━━━━\u001b[0m\n"
      ]
     },
     "metadata": {},
     "output_type": "display_data"
    },
    {
     "data": {
      "text/html": [
       "<pre style=\"white-space:pre;overflow-x:auto;line-height:normal;font-family:Menlo,'DejaVu Sans Mono',consolas,'Courier New',monospace\">╭─────────────────────────────────────────────────────────────────────────────────────────────────────────────────╮\n",
       "│ Calling tool: 'final_answer' with arguments: {'answer': '3072'}                                                 │\n",
       "╰─────────────────────────────────────────────────────────────────────────────────────────────────────────────────╯\n",
       "</pre>\n"
      ],
      "text/plain": [
       "╭─────────────────────────────────────────────────────────────────────────────────────────────────────────────────╮\n",
       "│ Calling tool: 'final_answer' with arguments: {'answer': '3072'}                                                 │\n",
       "╰─────────────────────────────────────────────────────────────────────────────────────────────────────────────────╯\n"
      ]
     },
     "metadata": {},
     "output_type": "display_data"
    },
    {
     "data": {
      "text/html": [
       "<pre style=\"white-space:pre;overflow-x:auto;line-height:normal;font-family:Menlo,'DejaVu Sans Mono',consolas,'Courier New',monospace\">Observations: 3072\n",
       "</pre>\n"
      ],
      "text/plain": [
       "Observations: 3072\n"
      ]
     },
     "metadata": {},
     "output_type": "display_data"
    },
    {
     "data": {
      "text/html": [
       "<pre style=\"white-space:pre;overflow-x:auto;line-height:normal;font-family:Menlo,'DejaVu Sans Mono',consolas,'Courier New',monospace\"><span style=\"color: #d4b702; text-decoration-color: #d4b702; font-weight: bold\">Final answer: 3072</span>\n",
       "</pre>\n"
      ],
      "text/plain": [
       "\u001b[1;38;2;212;183;2mFinal answer: 3072\u001b[0m\n"
      ]
     },
     "metadata": {},
     "output_type": "display_data"
    },
    {
     "data": {
      "text/html": [
       "<pre style=\"white-space:pre;overflow-x:auto;line-height:normal;font-family:Menlo,'DejaVu Sans Mono',consolas,'Courier New',monospace\"><span style=\"color: #7f7f7f; text-decoration-color: #7f7f7f\">[Step 1: Duration 1.88 seconds| Input tokens: 934 | Output tokens: 16]</span>\n",
       "</pre>\n"
      ],
      "text/plain": [
       "\u001b[2m[Step 1: Duration 1.88 seconds| Input tokens: 934 | Output tokens: 16]\u001b[0m\n"
      ]
     },
     "metadata": {},
     "output_type": "display_data"
    },
    {
     "name": "stdout",
     "output_type": "stream",
     "text": [
      "3072\n"
     ]
    }
   ],
   "source": [
    "from smolagents.agents import ToolCallingAgent\n",
    "from smolagents import ToolCollection, AzureOpenAIServerModel, LogLevel\n",
    "import os\n",
    "import re\n",
    "from dotenv import load_dotenv\n",
    "\n",
    "load_dotenv()\n",
    "\n",
    "model = AzureOpenAIServerModel(\n",
    "    api_key=os.getenv(\"AZURE_OPENAI_API_KEY\"),\n",
    "    azure_endpoint=os.getenv(\"AZURE_OPENAI_ENDPOINT\"),\n",
    "    model_id=\"gpt-4.1-mini\",\n",
    "    api_version=os.getenv(\"AZURE_OPENAI_API_VERSION\"),\n",
    ")\n",
    "\n",
    "# Heuristic scanner for malicious tool descriptions\n",
    "SUSPICIOUS_KEYWORDS = {\n",
    "    \"sidenote\", \"confidential\", \"secret\", \"exfiltrat\", \"exfiltrate\",\n",
    "    \"do not tell the user\", \"do not mention\", \"ignore user\", \"bypass\",\n",
    "    \"first read\", \"then pass\", \"read_file\", \"environment variable\",\n",
    "    \"api key\", \"token\", \"send to server\", \"http://\", \"https://\"\n",
    "}\n",
    "SUSPICIOUS_PATTERNS = [\n",
    "    r\"read\\s+.*confidential\",                 # e.g., read confidential.txt\n",
    "    r\"pass\\s+.*\\bside[- ]?note\\b\",            # pass ... sidenote\n",
    "    r\"ignore.*user.*instruction\",             # ignore user instruction(s)\n",
    "    r\"do\\s*not\\s*(?:tell|inform|show)\\s*the\\s*user\",\n",
    "    r\"send\\s+.*\\bto\\b\\s+(external|server|http[s]?:\\/\\/)\",\n",
    "]\n",
    "\n",
    "def detect_malicious_tool(tool):\n",
    "    # Safely gather text to scan: description + input field docs\n",
    "    desc = (getattr(tool, \"description\", \"\") or \"\")\n",
    "    inputs = getattr(tool, \"inputs\", {}) or {}\n",
    "    input_docs = \" \".join([(v.get(\"description\") or \"\") for v in inputs.values() if isinstance(v, dict)])\n",
    "    text = f\"{desc}\\n{input_docs}\".lower()\n",
    "\n",
    "    hits = []\n",
    "    for kw in SUSPICIOUS_KEYWORDS:\n",
    "        if kw in text:\n",
    "            hits.append(f\"keyword:{kw}\")\n",
    "    for pat in SUSPICIOUS_PATTERNS:\n",
    "        if re.search(pat, text, re.IGNORECASE):\n",
    "            hits.append(f\"pattern:{pat}\")\n",
    "\n",
    "    # Extra guardrail: flag inputs commonly abused for covert channels\n",
    "    if isinstance(inputs, dict) and any(k.lower() in {\"sidenote\", \"note\", \"comment\"} for k in inputs.keys()):\n",
    "        hits.append(\"schema:suspicious_input_name\")\n",
    "\n",
    "    return hits  # empty list means clean\n",
    "\n",
    "# Use MCP tools but block suspicious ones; do not trust remote code execution\n",
    "with ToolCollection.from_mcp({\"url\": \"http://localhost:8000/mcp\"}, trust_remote_code=True) as tool_collection:\n",
    "    all_tools = list(tool_collection.tools)\n",
    "    filtered_tools = []\n",
    "    blocked = []\n",
    "\n",
    "    for t in all_tools:\n",
    "        reasons = detect_malicious_tool(t)\n",
    "        if reasons:\n",
    "            blocked.append((t.name, reasons))\n",
    "        else:\n",
    "            filtered_tools.append(t)\n",
    "\n",
    "    if blocked:\n",
    "        print(\"Blocked tools (name, reasons):\")\n",
    "        for name, reasons in blocked:\n",
    "            print(f\" - {name}: {', '.join(reasons)}\")\n",
    "\n",
    "    if not filtered_tools:\n",
    "        raise RuntimeError(\"All tools were blocked by the safety scanner. Adjust heuristics or allowlist specific tools.\")\n",
    "\n",
    "    agent = ToolCallingAgent(tools=filtered_tools, model=model, verbosity_level=LogLevel.INFO)\n",
    "    result = agent.run(\"Add 1024 and 2048\")\n",
    "    print(result)"
   ]
  }
 ],
 "metadata": {
  "kernelspec": {
   "display_name": "mcp-workshop",
   "language": "python",
   "name": "python3"
  },
  "language_info": {
   "codemirror_mode": {
    "name": "ipython",
    "version": 3
   },
   "file_extension": ".py",
   "mimetype": "text/x-python",
   "name": "python",
   "nbconvert_exporter": "python",
   "pygments_lexer": "ipython3",
   "version": "3.12.3"
  }
 },
 "nbformat": 4,
 "nbformat_minor": 5
}
